{
  "nbformat": 4,
  "nbformat_minor": 0,
  "metadata": {
    "colab": {
      "provenance": []
    },
    "kernelspec": {
      "name": "python3",
      "display_name": "Python 3"
    },
    "language_info": {
      "name": "python"
    }
  },
  "cells": [
    {
      "cell_type": "code",
      "execution_count": 1,
      "metadata": {
        "colab": {
          "base_uri": "https://localhost:8080/"
        },
        "id": "R7jeeCAGIIM9",
        "outputId": "5fbeffe9-4baa-4b1e-c46a-619a73f5e757"
      },
      "outputs": [
        {
          "output_type": "stream",
          "name": "stdout",
          "text": [
            "Dataset downloaded successfully.\n",
            "Dataset extracted successfully.\n"
          ]
        }
      ],
      "source": [
        "import requests\n",
        "import zipfile\n",
        "import os\n",
        "\n",
        "# URL of the dataset\n",
        "url = 'https://www.dropbox.com/scl/fi/u2w4eoeiksyae1pn0di6d/IndianSignLanguage.zip?rlkey=38ztp9zkqvhdvusoeet3a9qex&dl=1'  # Set dl=1 to download directly\n",
        "\n",
        "# Download the file\n",
        "response = requests.get(url)\n",
        "zip_path = 'IndianSignLanguage.zip'\n",
        "\n",
        "# Save the ZIP file\n",
        "with open(zip_path, 'wb') as f:\n",
        "    f.write(response.content)\n",
        "\n",
        "print(\"Dataset downloaded successfully.\")\n",
        "\n",
        "# Extract the ZIP file\n",
        "with zipfile.ZipFile(zip_path, 'r') as zip_ref:\n",
        "    zip_ref.extractall('IndianSignLanguage')\n",
        "\n",
        "print(\"Dataset extracted successfully.\")\n"
      ]
    },
    {
      "cell_type": "code",
      "source": [
        "import os\n",
        "import pandas as pd\n",
        "import matplotlib.pyplot as plt\n",
        "\n",
        "# Function to load the dataset and extract metadata\n",
        "def extract_metadata(dataset_path):\n",
        "    data = []\n",
        "    class_distribution = {}\n",
        "\n",
        "    # Loop through each class directory\n",
        "    for class_dir in os.listdir(dataset_path):\n",
        "        # Skip hidden files or directories (e.g., .DS_Store on macOS)\n",
        "        if class_dir.startswith('.'):\n",
        "            continue\n",
        "\n",
        "        # Use the directory name as the class label (no conversion to int)\n",
        "        class_id = class_dir\n",
        "        class_images = os.listdir(os.path.join(dataset_path, class_dir))\n",
        "\n",
        "        # Count the number of images in the class directory\n",
        "        class_distribution[class_id] = len(class_images)\n",
        "        data.append((class_id, len(class_images)))\n",
        "\n",
        "    # Convert data to DataFrame for easier manipulation and visualization\n",
        "    df = pd.DataFrame(data, columns=['ClassID', 'NumImages'])\n",
        "\n",
        "    # Calculate total number of images\n",
        "    total_images = df['NumImages'].sum()\n",
        "\n",
        "    # Display metadata\n",
        "    print(\"Metadata Summary:\")\n",
        "    print(\"=================\")\n",
        "    print(\"Total number of images:\", total_images)\n",
        "    print(\"Number of classes:\", len(df))\n",
        "    print(\"Class distribution:\")\n",
        "    print(df)\n",
        "    print(\"\")\n",
        "\n",
        "    return df, class_distribution\n",
        "\n",
        "# Path to the dataset\n",
        "dataset_path = \"IndianSignLanguage/data\"\n",
        "\n",
        "# Extract metadata\n",
        "metadata_df, class_distribution = extract_metadata(dataset_path)\n",
        "\n",
        "# Plot the data distribution based on class ID\n",
        "plt.figure(figsize=(10, 6))\n",
        "plt.bar(class_distribution.keys(), class_distribution.values(), color='skyblue')\n",
        "plt.xlabel('Class ID')\n",
        "plt.ylabel('Number of Images')\n",
        "plt.title('Data Distribution Based on Class ID')\n",
        "plt.xticks(rotation=90)  # Rotate x-axis labels if there are many classes\n",
        "plt.grid(axis='y', linestyle='--', alpha=0.7)\n",
        "plt.show()\n"
      ],
      "metadata": {
        "colab": {
          "base_uri": "https://localhost:8080/",
          "height": 1000
        },
        "id": "SrJ2NmrEIh34",
        "outputId": "e5a4771a-5e3d-4142-a9ac-ee4fe271bb93"
      },
      "execution_count": 2,
      "outputs": [
        {
          "output_type": "stream",
          "name": "stdout",
          "text": [
            "Metadata Summary:\n",
            "=================\n",
            "Total number of images: 42000\n",
            "Number of classes: 35\n",
            "Class distribution:\n",
            "   ClassID  NumImages\n",
            "0        O       1200\n",
            "1        I       1200\n",
            "2        5       1200\n",
            "3        P       1200\n",
            "4        R       1200\n",
            "5        A       1200\n",
            "6        C       1200\n",
            "7        Z       1200\n",
            "8        K       1200\n",
            "9        3       1200\n",
            "10       W       1200\n",
            "11       M       1200\n",
            "12       G       1200\n",
            "13       U       1200\n",
            "14       Y       1200\n",
            "15       4       1200\n",
            "16       S       1200\n",
            "17       Q       1200\n",
            "18       D       1200\n",
            "19       1       1200\n",
            "20       B       1200\n",
            "21       T       1200\n",
            "22       6       1200\n",
            "23       H       1200\n",
            "24       F       1200\n",
            "25       E       1200\n",
            "26       7       1200\n",
            "27       9       1200\n",
            "28       X       1200\n",
            "29       N       1200\n",
            "30       V       1200\n",
            "31       2       1200\n",
            "32       J       1200\n",
            "33       8       1200\n",
            "34       L       1200\n",
            "\n"
          ]
        },
        {
          "output_type": "display_data",
          "data": {
            "text/plain": [
              "<Figure size 1000x600 with 1 Axes>"
            ],
            "image/png": "[encoded data removed]"
          },
          "metadata": {}
        }
      ]
    },
    {
      "cell_type": "code",
      "source": [
        "import os\n",
        "import shutil\n",
        "import seaborn as sns\n",
        "import pandas as pd\n",
        "import matplotlib.pyplot as plt\n",
        "import torchvision\n",
        "from torchvision import transforms\n",
        "\n",
        "# Define paths\n",
        "source_dir = \"IndianSignLanguage/data\"\n",
        "target_dir = \"IndianSignLanguage_processed\"\n",
        "\n",
        "# Create target directory if it doesn't exist\n",
        "if not os.path.exists(target_dir):\n",
        "    os.makedirs(target_dir)\n",
        "\n",
        "# Define classes to keep (adjust as needed for your dataset)\n",
        "# Here, classes can be set as specific folder names you want to keep.\n",
        "classes_to_keep = os.listdir(source_dir)  # Keeps all classes in the dataset\n",
        "\n",
        "# Copy images of selected classes to the target directory\n",
        "for class_name in classes_to_keep:\n",
        "    src_path = os.path.join(source_dir, class_name)\n",
        "    dst_path = os.path.join(target_dir, class_name)\n",
        "    try:\n",
        "        shutil.copytree(src_path, dst_path)\n",
        "    except FileExistsError:\n",
        "        print(f\"Directory '{dst_path}' already exists. Skipping copying.\")\n",
        "\n",
        "# Dataset Paths\n",
        "data_dir = target_dir\n",
        "\n",
        "# Extract metadata\n",
        "# Exploratory Analysis\n",
        "print(\"Exploratory Analysis:\")\n",
        "metadata_df, class_distribution = extract_metadata(data_dir)\n",
        "\n",
        "# Image transformations with data augmentation\n",
        "transform = transforms.Compose([\n",
        "    transforms.Resize((32, 32)),\n",
        "    transforms.ToTensor(),\n",
        "    transforms.RandomHorizontalFlip(),  # Random horizontal flip\n",
        "    transforms.RandomVerticalFlip(),\n",
        "    transforms.RandomRotation(10),\n",
        "    transforms.Normalize(mean=[0.5, 0.5, 0.5], std=[0.5, 0.5, 0.5])\n",
        "])\n",
        "\n",
        "# Load dataset with augmented transform\n",
        "dataset = torchvision.datasets.ImageFolder(root=data_dir, transform=transform)\n",
        "\n",
        "# Convert to DataFrame\n",
        "df = pd.DataFrame(dataset.imgs, columns=['image_path', 'label'])\n",
        "\n",
        "# Distribution Graphs\n",
        "plt.figure(figsize=(10, 6))\n",
        "sns.countplot(data=df, x='label', color='skyblue')\n",
        "plt.title('Class Distribution')\n",
        "plt.xlabel('Class')\n",
        "plt.ylabel('Count')\n",
        "plt.show()\n"
      ],
      "metadata": {
        "colab": {
          "base_uri": "https://localhost:8080/",
          "height": 1000
        },
        "id": "CCBqW-0bIm0m",
        "outputId": "f6bace7f-1531-47bb-edc1-cb35ff00c110"
      },
      "execution_count": 3,
      "outputs": [
        {
          "output_type": "stream",
          "name": "stdout",
          "text": [
            "Exploratory Analysis:\n",
            "Metadata Summary:\n",
            "=================\n",
            "Total number of images: 42000\n",
            "Number of classes: 35\n",
            "Class distribution:\n",
            "   ClassID  NumImages\n",
            "0        O       1200\n",
            "1        I       1200\n",
            "2        5       1200\n",
            "3        P       1200\n",
            "4        R       1200\n",
            "5        A       1200\n",
            "6        C       1200\n",
            "7        Z       1200\n",
            "8        K       1200\n",
            "9        3       1200\n",
            "10       W       1200\n",
            "11       M       1200\n",
            "12       G       1200\n",
            "13       U       1200\n",
            "14       Y       1200\n",
            "15       4       1200\n",
            "16       S       1200\n",
            "17       Q       1200\n",
            "18       D       1200\n",
            "19       1       1200\n",
            "20       B       1200\n",
            "21       T       1200\n",
            "22       6       1200\n",
            "23       H       1200\n",
            "24       F       1200\n",
            "25       E       1200\n",
            "26       7       1200\n",
            "27       9       1200\n",
            "28       X       1200\n",
            "29       N       1200\n",
            "30       V       1200\n",
            "31       2       1200\n",
            "32       J       1200\n",
            "33       8       1200\n",
            "34       L       1200\n",
            "\n"
          ]
        },
        {
          "output_type": "display_data",
          "data": {
            "text/plain": [
              "<Figure size 1000x600 with 1 Axes>"
            ],
            "image/png": "[encoded data removed]"
          },
          "metadata": {}
        }
      ]
    },
    {
      "cell_type": "code",
      "source": [
        "import torch\n",
        "import torchvision\n",
        "import torchvision.transforms as transforms\n",
        "from torch.utils.data import random_split\n",
        "import matplotlib.pyplot as plt\n",
        "from sklearn.metrics import precision_score, recall_score, f1_score, accuracy_score\n",
        "from sklearn.preprocessing import StandardScaler\n",
        "import numpy as np\n",
        "import os\n",
        "import pandas as pd\n",
        "import cv2\n",
        "from mpl_toolkits.mplot3d import Axes3D"
      ],
      "metadata": {
        "id": "HomTKWxGIvSp"
      },
      "execution_count": 4,
      "outputs": []
    },
    {
      "cell_type": "code",
      "source": [
        "# Set the random seed\n",
        "# torch.manual_seed(42)\n",
        "# Split dataset into train and test\n",
        "train_size = int(0.7 * len(dataset))\n",
        "test_size = len(dataset) - train_size\n",
        "train_dataset, test_dataset = random_split(dataset, [train_size, test_size])\n",
        "\n",
        "# Create data loaders\n",
        "train_loader = torch.utils.data.DataLoader(train_dataset, batch_size=64, shuffle=True)\n",
        "test_loader = torch.utils.data.DataLoader(test_dataset, batch_size=64, shuffle=False)"
      ],
      "metadata": {
        "id": "1-Nn_p0dIx4l"
      },
      "execution_count": 5,
      "outputs": []
    },
    {
      "cell_type": "code",
      "source": [
        "import warnings\n",
        "from sklearn.exceptions import UndefinedMetricWarning\n",
        "# from sklearn.metrics import roc_curve, auc\n",
        "\n",
        "# Suppress the warning\n",
        "warnings.filterwarnings(\"ignore\", category=UndefinedMetricWarning)\n",
        "\n",
        "# Function to evaluate the model\n",
        "def evaluate_model(model, test_loader):\n",
        "    model.eval()\n",
        "    all_preds = []\n",
        "    all_labels = []\n",
        "    with torch.no_grad():\n",
        "        for images, labels in test_loader:\n",
        "            outputs = model(images)\n",
        "            _, predicted = torch.max(outputs, 1)\n",
        "            all_preds.extend(predicted.numpy())\n",
        "            all_labels.extend(labels.numpy())\n",
        "    # return all_labels, all_preds\n",
        "    # Calculate evaluation metrics\n",
        "    # fpr, tpr, _ = roc_curve(all_labels, all_preds)\n",
        "    # roc_auc = auc(fpr, tpr)\n",
        "    precision = precision_score(all_labels, all_preds, average='weighted', zero_division='warn')\n",
        "    recall = recall_score(all_labels, all_preds, average='weighted')\n",
        "    f1 = f1_score(all_labels, all_preds, average='weighted')\n",
        "    accuracy = accuracy_score(all_labels, all_preds)\n",
        "    return accuracy, f1, recall, precision\n",
        "\n"
      ],
      "metadata": {
        "id": "WA2PFoDpI1jZ"
      },
      "execution_count": 6,
      "outputs": []
    },
    {
      "cell_type": "code",
      "source": [
        "train_size = int(0.7 * len(dataset))\n",
        "val_size = len(dataset) - train_size\n",
        "train_dataset, val_dataset = torch.utils.data.random_split(dataset, [train_size, val_size])\n",
        "\n",
        "\n",
        "\n",
        "# Print total number of images and total number of classes in train and validation sets\n",
        "print(\"Total number of images in train set:\", len(train_dataset))\n",
        "print(\"Total number of images in validation set:\", len(val_dataset))\n",
        "# Print labels of classes selected"
      ],
      "metadata": {
        "colab": {
          "base_uri": "https://localhost:8080/"
        },
        "id": "EEt4OGQuMB9N",
        "outputId": "5dfb873d-2680-4766-9a32-2fe731f0ae3b"
      },
      "execution_count": 7,
      "outputs": [
        {
          "output_type": "stream",
          "name": "stdout",
          "text": [
            "Total number of images in train set: 29399\n",
            "Total number of images in validation set: 12601\n"
          ]
        }
      ]
    },
    {
      "cell_type": "code",
      "source": [
        "import torch.nn as nn\n",
        "import torch.nn.functional as F\n",
        "\n",
        "class LeNet5(nn.Module):\n",
        "    def __init__(self, num_classes):\n",
        "        super(LeNet5, self).__init__()\n",
        "        self.features = nn.Sequential(\n",
        "            nn.Conv2d(3, 6, kernel_size=5),\n",
        "            nn.ReLU(inplace=True),\n",
        "            nn.MaxPool2d(kernel_size=2, stride=2),\n",
        "            nn.Conv2d(6, 16, kernel_size=5),\n",
        "            nn.ReLU(inplace=True),\n",
        "            nn.MaxPool2d(kernel_size=2, stride=2)\n",
        "        )\n",
        "        self.classifier = nn.Sequential(\n",
        "            nn.Linear(16 * 5 * 5, 120),\n",
        "            nn.ReLU(inplace=True),\n",
        "            nn.Linear(120, 84),\n",
        "            nn.ReLU(inplace=True),\n",
        "            nn.Linear(84, num_classes)\n",
        "        )\n",
        "\n",
        "    def forward(self, x):\n",
        "        x = self.features(x)\n",
        "        x = torch.flatten(x, 1)\n",
        "        x = self.classifier(x)\n",
        "        return x"
      ],
      "metadata": {
        "id": "MynpwgloI5hb"
      },
      "execution_count": 8,
      "outputs": []
    },
    {
      "cell_type": "code",
      "source": [
        "import torch\n",
        "from torch.utils.data import Dataset, DataLoader\n",
        "from torchvision import transforms\n",
        "from PIL import Image\n",
        "import pandas as pd\n",
        "import os\n",
        "from sklearn.manifold import TSNE\n",
        "import matplotlib.pyplot as plt\n",
        "\n",
        "# Evaluate the model\n",
        "def evaluate(model, test_loader):\n",
        "    model.eval()\n",
        "    true_labels = []\n",
        "    pred_labels = []\n",
        "    with torch.no_grad():\n",
        "        for inputs, labels in test_loader:\n",
        "            outputs = model(inputs)\n",
        "            _, predicted = torch.max(outputs, 1)\n",
        "            true_labels.extend(labels.numpy())\n",
        "            pred_labels.extend(predicted.numpy())\n",
        "    return true_labels, pred_labels\n",
        "\n",
        "# Initialize the model\n",
        "model = LeNet5(num_classes=35)\n",
        "\n",
        "# Define loss function and optimizer\n",
        "criterion = nn.CrossEntropyLoss()\n",
        "optimizer = torch.optim.Adam(model.parameters(), lr=0.001)\n",
        "\n",
        "# Define data loaders for training and validation\n",
        "train_loader = DataLoader(train_dataset, batch_size=64, shuffle=True)\n",
        "val_loader = DataLoader(val_dataset, batch_size=64)\n",
        "\n",
        "# Training loop\n",
        "num_epochs = 10\n",
        "for epoch in range(num_epochs):\n",
        "    model.train()\n",
        "    running_loss = 0.0\n",
        "    for images, labels in train_loader:\n",
        "        optimizer.zero_grad()\n",
        "        outputs = model(images)\n",
        "        loss = criterion(outputs, labels)\n",
        "        loss.backward()\n",
        "        optimizer.step()\n",
        "        running_loss += loss.item() * images.size(0)\n",
        "    epoch_loss = running_loss / len(train_dataset)\n",
        "    print(f\"Epoch [{epoch+1}/{num_epochs}], Train Loss: {epoch_loss:.4f}\")\n",
        "            # Evaluate the model\n",
        "    # print(\"Evaluation on Test Data:\")\n",
        "    # acc, f1_val, recall_val, precision_val = evaluate_model(model, test_loader)  # Assuming test_loader is defined\n",
        "    # Test the model on the validation set\n",
        "    true_labels, pred_labels = evaluate(model, val_loader)\n",
        "\n",
        "    # Calculate evaluation metrics\n",
        "    precision_val = precision_score(true_labels, pred_labels, average='weighted')\n",
        "    recall_val = recall_score(true_labels, pred_labels, average='weighted')\n",
        "    f1_val = f1_score(true_labels, pred_labels, average='weighted')\n",
        "    acc = accuracy_score(true_labels, pred_labels)"
      ],
      "metadata": {
        "colab": {
          "base_uri": "https://localhost:8080/"
        },
        "id": "hmJZ6A8JJGwv",
        "outputId": "3e26dae2-0650-4924-9255-d1eaa1e7e3f5"
      },
      "execution_count": 9,
      "outputs": [
        {
          "output_type": "stream",
          "name": "stdout",
          "text": [
            "Epoch [1/10], Train Loss: 0.6945\n",
            "Epoch [2/10], Train Loss: 0.0756\n",
            "Epoch [3/10], Train Loss: 0.0354\n",
            "Epoch [4/10], Train Loss: 0.0324\n",
            "Epoch [5/10], Train Loss: 0.0176\n",
            "Epoch [6/10], Train Loss: 0.0182\n",
            "Epoch [7/10], Train Loss: 0.0034\n",
            "Epoch [8/10], Train Loss: 0.0242\n",
            "Epoch [9/10], Train Loss: 0.0059\n",
            "Epoch [10/10], Train Loss: 0.0142\n"
          ]
        }
      ]
    }
  ]
}