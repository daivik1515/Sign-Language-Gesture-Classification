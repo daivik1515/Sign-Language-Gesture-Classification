{
  "nbformat": 4,
  "nbformat_minor": 0,
  "metadata": {
    "colab": {
      "provenance": []
    },
    "kernelspec": {
      "name": "python3",
      "display_name": "Python 3"
    },
    "language_info": {
      "name": "python"
    }
  },
  "cells": [
    {
      "cell_type": "code",
      "execution_count": null,
      "metadata": {
        "colab": {
          "base_uri": "https://localhost:8080/"
        },
        "id": "aGXoNIjkw41Z",
        "outputId": "c0f4ca19-eaf2-4c0f-a61e-a19672a9770e"
      },
      "outputs": [
        {
          "output_type": "stream",
          "name": "stdout",
          "text": [
            "Dataset downloaded successfully.\n",
            "Dataset extracted successfully.\n"
          ]
        }
      ],
      "source": [
        "import requests\n",
        "import zipfile\n",
        "import os\n",
        "\n",
        "# URL of the dataset\n",
        "url = 'https://www.dropbox.com/scl/fi/u2w4eoeiksyae1pn0di6d/IndianSignLanguage.zip?rlkey=38ztp9zkqvhdvusoeet3a9qex&dl=1'  # Set dl=1 to download directly\n",
        "\n",
        "# Download the file\n",
        "response = requests.get(url)\n",
        "zip_path = 'IndianSignLanguage.zip'\n",
        "\n",
        "# Save the ZIP file\n",
        "with open(zip_path, 'wb') as f:\n",
        "    f.write(response.content)\n",
        "\n",
        "print(\"Dataset downloaded successfully.\")\n",
        "\n",
        "# Extract the ZIP file\n",
        "with zipfile.ZipFile(zip_path, 'r') as zip_ref:\n",
        "    zip_ref.extractall('IndianSignLanguage')\n",
        "\n",
        "print(\"Dataset extracted successfully.\")\n"
      ]
    },
    {
      "cell_type": "code",
      "source": [
        "import os\n",
        "import pandas as pd\n",
        "import matplotlib.pyplot as plt\n",
        "\n",
        "# Function to load the dataset and extract metadata\n",
        "def extract_metadata(dataset_path):\n",
        "    data = []\n",
        "    class_distribution = {}\n",
        "\n",
        "    # Loop through each class directory\n",
        "    for class_dir in os.listdir(dataset_path):\n",
        "        # Skip hidden files or directories (e.g., .DS_Store on macOS)\n",
        "        if class_dir.startswith('.'):\n",
        "            continue\n",
        "\n",
        "        # Use the directory name as the class label (no conversion to int)\n",
        "        class_id = class_dir\n",
        "        class_images = os.listdir(os.path.join(dataset_path, class_dir))\n",
        "\n",
        "        # Count the number of images in the class directory\n",
        "        class_distribution[class_id] = len(class_images)\n",
        "        data.append((class_id, len(class_images)))\n",
        "\n",
        "    # Convert data to DataFrame for easier manipulation and visualization\n",
        "    df = pd.DataFrame(data, columns=['ClassID', 'NumImages'])\n",
        "\n",
        "    # Calculate total number of images\n",
        "    total_images = df['NumImages'].sum()\n",
        "\n",
        "    # Display metadata\n",
        "    print(\"Metadata Summary:\")\n",
        "    print(\"=================\")\n",
        "    print(\"Total number of images:\", total_images)\n",
        "    print(\"Number of classes:\", len(df))\n",
        "    print(\"Class distribution:\")\n",
        "    print(df)\n",
        "    print(\"\")\n",
        "\n",
        "    return df, class_distribution\n",
        "\n",
        "# Path to the dataset\n",
        "dataset_path = \"IndianSignLanguage/data\"\n",
        "\n",
        "# Extract metadata\n",
        "metadata_df, class_distribution = extract_metadata(dataset_path)\n",
        "\n",
        "# Plot the data distribution based on class ID\n",
        "plt.figure(figsize=(10, 6))\n",
        "plt.bar(class_distribution.keys(), class_distribution.values(), color='skyblue')\n",
        "plt.xlabel('Class ID')\n",
        "plt.ylabel('Number of Images')\n",
        "plt.title('Data Distribution Based on Class ID')\n",
        "plt.xticks(rotation=90)  # Rotate x-axis labels if there are many classes\n",
        "plt.grid(axis='y', linestyle='--', alpha=0.7)\n",
        "plt.show()\n"
      ],
      "metadata": {
        "colab": {
          "base_uri": "https://localhost:8080/",
          "height": 1000
        },
        "id": "x_jsjxiJxIz8",
        "outputId": "8afea133-2802-412c-da34-269d2fa75859"
      },
      "execution_count": null,
      "outputs": [
        {
          "output_type": "stream",
          "name": "stdout",
          "text": [
            "Metadata Summary:\n",
            "=================\n",
            "Total number of images: 42000\n",
            "Number of classes: 35\n",
            "Class distribution:\n",
            "   ClassID  NumImages\n",
            "0        4       1200\n",
            "1        7       1200\n",
            "2        E       1200\n",
            "3        M       1200\n",
            "4        2       1200\n",
            "5        H       1200\n",
            "6        C       1200\n",
            "7        P       1200\n",
            "8        V       1200\n",
            "9        U       1200\n",
            "10       Y       1200\n",
            "11       9       1200\n",
            "12       1       1200\n",
            "13       I       1200\n",
            "14       K       1200\n",
            "15       B       1200\n",
            "16       D       1200\n",
            "17       J       1200\n",
            "18       Q       1200\n",
            "19       N       1200\n",
            "20       X       1200\n",
            "21       Z       1200\n",
            "22       3       1200\n",
            "23       8       1200\n",
            "24       F       1200\n",
            "25       6       1200\n",
            "26       W       1200\n",
            "27       T       1200\n",
            "28       A       1200\n",
            "29       G       1200\n",
            "30       R       1200\n",
            "31       5       1200\n",
            "32       O       1200\n",
            "33       L       1200\n",
            "34       S       1200\n",
            "\n"
          ]
        },
        {
          "output_type": "display_data",
          "data": {
            "text/plain": [
              "<Figure size 1000x600 with 1 Axes>"
            ],
            "image/png": "[encoded data removed]"
          },
          "metadata": {}
        }
      ]
    },
    {
      "cell_type": "code",
      "source": [
        "import os\n",
        "import shutil\n",
        "import seaborn as sns\n",
        "import pandas as pd\n",
        "import matplotlib.pyplot as plt\n",
        "import torchvision\n",
        "from torchvision import transforms\n",
        "\n",
        "# Define paths\n",
        "source_dir = \"IndianSignLanguage/data\"\n",
        "target_dir = \"IndianSignLanguage_processed\"\n",
        "\n",
        "# Create target directory if it doesn't exist\n",
        "if not os.path.exists(target_dir):\n",
        "    os.makedirs(target_dir)\n",
        "\n",
        "# Define classes to keep (adjust as needed for your dataset)\n",
        "# Here, classes can be set as specific folder names you want to keep.\n",
        "classes_to_keep = os.listdir(source_dir)  # Keeps all classes in the dataset\n",
        "\n",
        "# Copy images of selected classes to the target directory\n",
        "for class_name in classes_to_keep:\n",
        "    src_path = os.path.join(source_dir, class_name)\n",
        "    dst_path = os.path.join(target_dir, class_name)\n",
        "    try:\n",
        "        shutil.copytree(src_path, dst_path)\n",
        "    except FileExistsError:\n",
        "        print(f\"Directory '{dst_path}' already exists. Skipping copying.\")\n",
        "\n",
        "# Dataset Paths\n",
        "data_dir = target_dir\n",
        "\n",
        "# Extract metadata\n",
        "# Exploratory Analysis\n",
        "print(\"Exploratory Analysis:\")\n",
        "metadata_df, class_distribution = extract_metadata(data_dir)\n",
        "\n",
        "# Image transformations with data augmentation\n",
        "transform = transforms.Compose([\n",
        "    transforms.Resize((32, 32)),\n",
        "    transforms.ToTensor(),\n",
        "    transforms.RandomHorizontalFlip(),  # Random horizontal flip\n",
        "    transforms.RandomVerticalFlip(),\n",
        "    transforms.RandomRotation(10),\n",
        "    transforms.Normalize(mean=[0.5, 0.5, 0.5], std=[0.5, 0.5, 0.5])\n",
        "])\n",
        "\n",
        "# Load dataset with augmented transform\n",
        "dataset = torchvision.datasets.ImageFolder(root=data_dir, transform=transform)\n",
        "\n",
        "# Convert to DataFrame\n",
        "df = pd.DataFrame(dataset.imgs, columns=['image_path', 'label'])\n",
        "\n",
        "# Distribution Graphs\n",
        "plt.figure(figsize=(10, 6))\n",
        "sns.countplot(data=df, x='label', color='skyblue')\n",
        "plt.title('Class Distribution')\n",
        "plt.xlabel('Class')\n",
        "plt.ylabel('Count')\n",
        "plt.show()\n"
      ],
      "metadata": {
        "colab": {
          "base_uri": "https://localhost:8080/",
          "height": 1000
        },
        "id": "aXv8PxhgxSk5",
        "outputId": "a49c27ef-d928-4774-d591-dcbf2868735e"
      },
      "execution_count": null,
      "outputs": [
        {
          "output_type": "stream",
          "name": "stdout",
          "text": [
            "Exploratory Analysis:\n",
            "Metadata Summary:\n",
            "=================\n",
            "Total number of images: 42000\n",
            "Number of classes: 35\n",
            "Class distribution:\n",
            "   ClassID  NumImages\n",
            "0        4       1200\n",
            "1        7       1200\n",
            "2        E       1200\n",
            "3        M       1200\n",
            "4        2       1200\n",
            "5        H       1200\n",
            "6        C       1200\n",
            "7        P       1200\n",
            "8        V       1200\n",
            "9        U       1200\n",
            "10       Y       1200\n",
            "11       9       1200\n",
            "12       1       1200\n",
            "13       I       1200\n",
            "14       K       1200\n",
            "15       B       1200\n",
            "16       D       1200\n",
            "17       J       1200\n",
            "18       Q       1200\n",
            "19       N       1200\n",
            "20       X       1200\n",
            "21       Z       1200\n",
            "22       3       1200\n",
            "23       8       1200\n",
            "24       F       1200\n",
            "25       6       1200\n",
            "26       W       1200\n",
            "27       T       1200\n",
            "28       A       1200\n",
            "29       G       1200\n",
            "30       R       1200\n",
            "31       5       1200\n",
            "32       O       1200\n",
            "33       L       1200\n",
            "34       S       1200\n",
            "\n"
          ]
        },
        {
          "output_type": "display_data",
          "data": {
            "text/plain": [
              "<Figure size 1000x600 with 1 Axes>"
            ],
            "image/png": "[encoded data removed]"
          },
          "metadata": {}
        }
      ]
    },
    {
      "cell_type": "code",
      "source": [
        "import torch\n",
        "import torchvision\n",
        "from torchvision import datasets, transforms\n",
        "import matplotlib.pyplot as plt\n",
        "import numpy as np\n",
        "\n",
        "# Define the transformations\n",
        "transform = transforms.Compose([\n",
        "    transforms.Resize((32, 32)),\n",
        "    transforms.RandomHorizontalFlip(),  # Random horizontal flip\n",
        "    transforms.RandomVerticalFlip(),  # Random vertical flip\n",
        "    transforms.RandomRotation(10),  # Random rotation within ±10 degrees\n",
        "    transforms.ToTensor(),\n",
        "    transforms.Normalize(mean=[0.5, 0.5, 0.5], std=[0.5, 0.5, 0.5])\n",
        "])\n",
        "\n",
        "# Load dataset (make sure to replace 'data_dir' with your actual dataset path)\n",
        "data_dir = 'IndianSignLanguage_processed'  # Replace with your dataset path\n",
        "dataset = datasets.ImageFolder(root=data_dir, transform=transform)\n",
        "\n",
        "# Select a random image from the dataset\n",
        "img, label = dataset[2]  # Get the first image and its label\n",
        "\n",
        "# Convert tensor to numpy for visualization\n",
        "img = img.numpy().transpose((1, 2, 0))  # Convert to HWC format\n",
        "img = img * 0.5 + 0.5  # Undo the normalization (mean=0.5, std=0.5)\n",
        "\n",
        "# Plot the image\n",
        "plt.imshow(img)\n",
        "plt.title(f'Class: {label}')\n",
        "plt.axis('off')  # Hide axis\n",
        "plt.show()\n"
      ],
      "metadata": {
        "colab": {
          "base_uri": "https://localhost:8080/",
          "height": 428
        },
        "id": "9TdOHrMjxZX1",
        "outputId": "1e6cf465-e1dd-49e4-fdd9-686f028082c3"
      },
      "execution_count": null,
      "outputs": [
        {
          "output_type": "display_data",
          "data": {
            "text/plain": [
              "<Figure size 640x480 with 1 Axes>"
            ],
            "image/png": "[encoded data removed]"
          },
          "metadata": {}
        }
      ]
    },
    {
      "cell_type": "code",
      "source": [
        "import torch\n",
        "import torchvision\n",
        "import torchvision.transforms as transforms\n",
        "from torch.utils.data import random_split\n",
        "import matplotlib.pyplot as plt\n",
        "from sklearn.metrics import precision_score, recall_score, f1_score, accuracy_score\n",
        "from sklearn.preprocessing import StandardScaler\n",
        "import numpy as np\n",
        "import os\n",
        "import pandas as pd\n",
        "import cv2\n",
        "from mpl_toolkits.mplot3d import Axes3D"
      ],
      "metadata": {
        "id": "FKLJ9cx4xcjC"
      },
      "execution_count": null,
      "outputs": []
    },
    {
      "cell_type": "code",
      "source": [
        "# Define function to train and evaluate the model\n",
        "def train_eval_model(model, train_loader, val_loader, criterion, optimizer, device):\n",
        "    model.train()\n",
        "    running_loss = 0.0\n",
        "    device = torch.device(\"cuda\" if torch.cuda.is_available() else \"cpu\")\n",
        "\n",
        "    for images, labels in train_loader:\n",
        "        optimizer.zero_grad()\n",
        "        outputs = model(images)\n",
        "        loss = criterion(outputs, labels)\n",
        "        loss.backward()\n",
        "        optimizer.step()\n",
        "        running_loss += loss.item() * images.size(0)\n",
        "\n",
        "    epoch_loss = running_loss / len(train_loader.dataset)\n",
        "\n",
        "    model.eval()\n",
        "    true_labels = []\n",
        "    pred_labels = []\n",
        "\n",
        "    with torch.no_grad():\n",
        "        for images, labels in val_loader:\n",
        "            outputs = model(images)\n",
        "            _, predicted = torch.max(outputs, 1)\n",
        "            true_labels.extend(labels.numpy())\n",
        "            pred_labels.extend(predicted.numpy())\n",
        "\n",
        "    precision_val = precision_score(true_labels, pred_labels, average='weighted')\n",
        "    recall_val = recall_score(true_labels, pred_labels, average='weighted')\n",
        "    f1_val = f1_score(true_labels, pred_labels, average='weighted')\n",
        "    acc = accuracy_score(true_labels, pred_labels)\n",
        "\n",
        "    return epoch_loss, acc, f1_val, recall_val, precision_val\n",
        "\n",
        "    with torch.no_grad():\n",
        "        for inputs, labels in test_loader:\n",
        "            inputs, labels = inputs.to(device), labels.to(device)\n",
        "            outputs = model(inputs)\n",
        "            loss = criterion(outputs, labels)\n",
        "            running_loss += loss.item()\n",
        "            _, predicted = outputs.max(1)\n",
        "            total += labels.size(0)\n",
        "            correct += predicted.eq(labels).sum().item()\n",
        "\n",
        "    test_loss = running_loss / len(test_loader)\n",
        "    test_acc = 100. * correct / total\n",
        "\n",
        "    return train_loss, train_acc, test_loss, test_acc"
      ],
      "metadata": {
        "id": "QCCyEC4fxeKV"
      },
      "execution_count": null,
      "outputs": []
    },
    {
      "cell_type": "code",
      "source": [
        "from sklearn.model_selection import ParameterGrid\n",
        "# Define hyperparameters\n",
        "hyperparameters = {\n",
        "    'lr': [0.00001, 0.0001, 0.001, 0.01, 0.1],\n",
        "    'batch_size': [32, 64, 128]\n",
        "}\n",
        "\n",
        "# Initialize lists to store evaluation metrics\n",
        "# 1: gtsrb dataset, 2:chinese, 3:roadsign\n",
        "\n",
        "accuracy_arr = {1: [], 2: [], 3: []}\n",
        "f1_arr = {1: [], 2: [], 3: []}\n",
        "recall_arr = {1: [], 2: [], 3: []}\n",
        "precision_arr = {1: [], 2: [], 3: []}\n",
        "\n",
        "num_epochs = 10  # You can adjust this as needed"
      ],
      "metadata": {
        "id": "gFvGyxHtzbYx"
      },
      "execution_count": null,
      "outputs": []
    },
    {
      "cell_type": "code",
      "source": [
        "import torch\n",
        "import torchvision\n",
        "import torch.nn as nn\n",
        "import torch.optim as optim\n",
        "import matplotlib.pyplot as plt\n",
        "import numpy as np\n",
        "import os\n",
        "import pandas as pd\n",
        "import cv2\n",
        "import shutil\n",
        "import seaborn as sns\n",
        "import bs4\n",
        "import warnings\n",
        "from torchvision import transforms, datasets\n",
        "from torch.utils.data import DataLoader, Dataset, random_split\n",
        "from sklearn.model_selection import ParameterGrid\n",
        "from tqdm import tqdm\n",
        "from sklearn.metrics import precision_score, recall_score, f1_score, accuracy_score\n",
        "from sklearn.preprocessing import StandardScaler\n",
        "from mpl_toolkits.mplot3d import Axes3D\n",
        "from PIL import Image\n",
        "from sklearn.model_selection import train_test_split\n",
        "from sklearn.exceptions import UndefinedMetricWarning\n",
        "# Suppress the warning\n",
        "warnings.filterwarnings(\"ignore\", category=UndefinedMetricWarning)"
      ],
      "metadata": {
        "id": "EF-MXZyfzu4_"
      },
      "execution_count": null,
      "outputs": []
    },
    {
      "cell_type": "code",
      "source": [
        "# Define dataset paths\n",
        "data_dir = \"IndianSignLanguage_processed\"\n",
        "\n",
        "# Image transformations\n",
        "transform = transforms.Compose([\n",
        "    transforms.Resize((32, 32)),\n",
        "    transforms.RandomHorizontalFlip(),  # Random horizontal flip\n",
        "    transforms.RandomVerticalFlip(),  # Random vertical flip\n",
        "    transforms.RandomRotation(10),  # Random rotation within ±10 degrees\n",
        "    transforms.ToTensor(),\n",
        "    transforms.Normalize(mean=[0.5, 0.5, 0.5], std=[0.5, 0.5, 0.5])\n",
        "])\n",
        "\n",
        "# Load dataset\n",
        "dataset = datasets.ImageFolder(root=data_dir, transform=transform)\n",
        "train_size = int(0.7 * len(dataset))\n",
        "test_size = len(dataset) - train_size\n",
        "train_dataset, test_dataset = random_split(dataset, [train_size, test_size])\n",
        "\n",
        "\n",
        "\n",
        "# Define the LeNet5 model\n",
        "class LeNet5(nn.Module):\n",
        "    def __init__(self, num_classes):\n",
        "        super(LeNet5, self).__init__()\n",
        "        self.features = nn.Sequential(\n",
        "            nn.Conv2d(3, 6, kernel_size=5),\n",
        "            nn.ReLU(inplace=True),\n",
        "            nn.MaxPool2d(kernel_size=2, stride=2),\n",
        "            nn.Conv2d(6, 16, kernel_size=5),\n",
        "            nn.ReLU(inplace=True),\n",
        "            nn.MaxPool2d(kernel_size=2, stride=2)\n",
        "        )\n",
        "        self.classifier = nn.Sequential(\n",
        "            nn.Linear(16 * 5 * 5, 120),\n",
        "            nn.ReLU(inplace=True),\n",
        "            nn.Linear(120, 84),\n",
        "            nn.ReLU(inplace=True),\n",
        "            nn.Linear(84, num_classes)\n",
        "        )\n",
        "\n",
        "    def forward(self, x):\n",
        "        x = self.features(x)\n",
        "        x = torch.flatten(x, 1)\n",
        "        x = self.classifier(x)\n",
        "        return x\n",
        "\n",
        "# Set device\n",
        "device = torch.device(\"cuda\" if torch.cuda.is_available() else \"cpu\")\n",
        "\n",
        "# Perform grid search\n",
        "for params in tqdm(ParameterGrid(hyperparameters)):\n",
        "    # Initialize the model\n",
        "    model = LeNet5(num_classes=35).to(device)\n",
        "    criterion = nn.CrossEntropyLoss()\n",
        "    optimizer = optim.Adam(model.parameters(), lr=params['lr'])\n",
        "\n",
        "    # Create data loaders\n",
        "    train_loader = DataLoader(train_dataset, batch_size=params['batch_size'], shuffle=True)\n",
        "    val_loader = DataLoader(test_dataset, batch_size=params['batch_size'], shuffle=False)\n",
        "\n",
        "    # Training and evaluation loop\n",
        "    for epoch in range(num_epochs):\n",
        "        train_loss, acc, f1_val, recall_val, precision_val = train_eval_model(model, train_loader, val_loader, criterion, optimizer, device)\n",
        "        print(f\"Epoch [{epoch+1}/{num_epochs}], Train Loss: {train_loss:.4f}, Accuracy: {acc:.4f}, F1 Score: {f1_val:.4f}, Recall: {recall_val:.4f}, Precision: {precision_val:.4f}\")\n",
        "\n",
        "    # Save metrics\n",
        "    accuracy_arr[1].append(acc)\n",
        "    f1_arr[1].append(f1_val)\n",
        "    recall_arr[1].append(recall_val)\n",
        "    precision_arr[1].append(precision_val)\n",
        "\n",
        "print(\"Accuracy:\", accuracy_arr[1])\n",
        "print(\"F1 Score:\", f1_arr[1])\n",
        "print(\"Recall:\", recall_arr[1])\n",
        "print(\"Precision:\", precision_arr[1])\n",
        "\n",
        "# Find the index of the best accuracy\n",
        "best_index = accuracy_arr[1].index(max(accuracy_arr[1]))\n",
        "\n",
        "# Retrieve the best hyperparameters\n",
        "best_hyperparameters = ParameterGrid(hyperparameters)[best_index]\n",
        "\n",
        "# Print the best hyperparameters and the corresponding best accuracy\n",
        "print(\"Best hyperparameters:\", best_hyperparameters)\n",
        "print(\"Best accuracy:\", accuracy_arr[1][best_index])\n"
      ],
      "metadata": {
        "colab": {
          "base_uri": "https://localhost:8080/"
        },
        "id": "Hnh_5LZfziFh",
        "outputId": "a86094f7-6cbc-48ab-ca7a-7cfe2d414ec8"
      },
      "execution_count": null,
      "outputs": [
        {
          "output_type": "stream",
          "name": "stderr",
          "text": [
            "\r  0%|          | 0/15 [00:00<?, ?it/s]"
          ]
        },
        {
          "output_type": "stream",
          "name": "stdout",
          "text": [
            "Epoch [1/10], Train Loss: 3.5479, Accuracy: 0.0582, F1 Score: 0.0131, Recall: 0.0582, Precision: 0.0078\n",
            "Epoch [2/10], Train Loss: 3.4237, Accuracy: 0.1116, F1 Score: 0.0445, Recall: 0.1116, Precision: 0.0847\n",
            "Epoch [3/10], Train Loss: 2.8373, Accuracy: 0.3262, F1 Score: 0.2585, Recall: 0.3262, Precision: 0.3413\n",
            "Epoch [4/10], Train Loss: 2.1338, Accuracy: 0.5547, F1 Score: 0.5246, Recall: 0.5547, Precision: 0.5949\n",
            "Epoch [5/10], Train Loss: 1.6278, Accuracy: 0.6959, F1 Score: 0.6764, Recall: 0.6959, Precision: 0.7073\n",
            "Epoch [6/10], Train Loss: 1.2837, Accuracy: 0.7383, F1 Score: 0.7252, Recall: 0.7383, Precision: 0.7499\n",
            "Epoch [7/10], Train Loss: 1.0454, Accuracy: 0.8011, F1 Score: 0.7945, Recall: 0.8011, Precision: 0.8133\n",
            "Epoch [8/10], Train Loss: 0.8638, Accuracy: 0.8310, F1 Score: 0.8264, Recall: 0.8310, Precision: 0.8450\n",
            "Epoch [9/10], Train Loss: 0.7280, Accuracy: 0.8745, F1 Score: 0.8760, Recall: 0.8745, Precision: 0.8816\n"
          ]
        },
        {
          "output_type": "stream",
          "name": "stderr",
          "text": [
            "\r  7%|▋         | 1/15 [10:23<2:25:34, 623.90s/it]"
          ]
        },
        {
          "output_type": "stream",
          "name": "stdout",
          "text": [
            "Epoch [10/10], Train Loss: 0.6138, Accuracy: 0.8983, F1 Score: 0.8983, Recall: 0.8983, Precision: 0.9014\n",
            "Epoch [1/10], Train Loss: 1.5965, Accuracy: 0.8842, F1 Score: 0.8746, Recall: 0.8842, Precision: 0.8876\n",
            "Epoch [2/10], Train Loss: 0.2500, Accuracy: 0.9640, F1 Score: 0.9640, Recall: 0.9640, Precision: 0.9657\n",
            "Epoch [3/10], Train Loss: 0.1178, Accuracy: 0.9793, F1 Score: 0.9793, Recall: 0.9793, Precision: 0.9798\n",
            "Epoch [4/10], Train Loss: 0.0776, Accuracy: 0.9797, F1 Score: 0.9797, Recall: 0.9797, Precision: 0.9814\n",
            "Epoch [5/10], Train Loss: 0.0544, Accuracy: 0.9885, F1 Score: 0.9885, Recall: 0.9885, Precision: 0.9889\n",
            "Epoch [6/10], Train Loss: 0.0405, Accuracy: 0.9918, F1 Score: 0.9918, Recall: 0.9918, Precision: 0.9919\n",
            "Epoch [7/10], Train Loss: 0.0348, Accuracy: 0.9875, F1 Score: 0.9874, Recall: 0.9875, Precision: 0.9883\n",
            "Epoch [8/10], Train Loss: 0.0324, Accuracy: 0.9894, F1 Score: 0.9893, Recall: 0.9894, Precision: 0.9899\n",
            "Epoch [9/10], Train Loss: 0.0222, Accuracy: 0.9958, F1 Score: 0.9958, Recall: 0.9958, Precision: 0.9959\n"
          ]
        },
        {
          "output_type": "stream",
          "name": "stderr",
          "text": [
            "\r 13%|█▎        | 2/15 [20:47<2:15:07, 623.65s/it]"
          ]
        },
        {
          "output_type": "stream",
          "name": "stdout",
          "text": [
            "Epoch [10/10], Train Loss: 0.0220, Accuracy: 0.9956, F1 Score: 0.9956, Recall: 0.9956, Precision: 0.9957\n",
            "Epoch [1/10], Train Loss: 0.5330, Accuracy: 0.9883, F1 Score: 0.9884, Recall: 0.9883, Precision: 0.9889\n",
            "Epoch [2/10], Train Loss: 0.0544, Accuracy: 0.9967, F1 Score: 0.9967, Recall: 0.9967, Precision: 0.9967\n",
            "Epoch [3/10], Train Loss: 0.0242, Accuracy: 0.9866, F1 Score: 0.9865, Recall: 0.9866, Precision: 0.9874\n",
            "Epoch [4/10], Train Loss: 0.0260, Accuracy: 0.9977, F1 Score: 0.9977, Recall: 0.9977, Precision: 0.9978\n",
            "Epoch [5/10], Train Loss: 0.0070, Accuracy: 0.9997, F1 Score: 0.9997, Recall: 0.9997, Precision: 0.9997\n",
            "Epoch [6/10], Train Loss: 0.0186, Accuracy: 0.9984, F1 Score: 0.9984, Recall: 0.9984, Precision: 0.9984\n",
            "Epoch [7/10], Train Loss: 0.0074, Accuracy: 0.9998, F1 Score: 0.9998, Recall: 0.9998, Precision: 0.9998\n",
            "Epoch [8/10], Train Loss: 0.0144, Accuracy: 0.9983, F1 Score: 0.9983, Recall: 0.9983, Precision: 0.9983\n",
            "Epoch [9/10], Train Loss: 0.0020, Accuracy: 0.9998, F1 Score: 0.9998, Recall: 0.9998, Precision: 0.9998\n"
          ]
        },
        {
          "output_type": "stream",
          "name": "stderr",
          "text": [
            "\r 20%|██        | 3/15 [31:16<2:05:11, 625.99s/it]"
          ]
        },
        {
          "output_type": "stream",
          "name": "stdout",
          "text": [
            "Epoch [10/10], Train Loss: 0.0036, Accuracy: 0.9752, F1 Score: 0.9748, Recall: 0.9752, Precision: 0.9783\n",
            "Epoch [1/10], Train Loss: 0.5081, Accuracy: 0.9522, F1 Score: 0.9524, Recall: 0.9522, Precision: 0.9588\n",
            "Epoch [2/10], Train Loss: 0.1326, Accuracy: 0.9762, F1 Score: 0.9761, Recall: 0.9762, Precision: 0.9781\n",
            "Epoch [3/10], Train Loss: 0.1312, Accuracy: 0.9365, F1 Score: 0.9373, Recall: 0.9365, Precision: 0.9466\n",
            "Epoch [4/10], Train Loss: 0.0957, Accuracy: 0.9886, F1 Score: 0.9886, Recall: 0.9886, Precision: 0.9890\n",
            "Epoch [5/10], Train Loss: 0.1453, Accuracy: 0.9525, F1 Score: 0.9517, Recall: 0.9525, Precision: 0.9595\n",
            "Epoch [6/10], Train Loss: 0.1517, Accuracy: 0.9863, F1 Score: 0.9862, Recall: 0.9863, Precision: 0.9865\n",
            "Epoch [7/10], Train Loss: 0.0911, Accuracy: 0.9949, F1 Score: 0.9949, Recall: 0.9949, Precision: 0.9950\n",
            "Epoch [8/10], Train Loss: 0.1630, Accuracy: 0.9706, F1 Score: 0.9705, Recall: 0.9706, Precision: 0.9725\n",
            "Epoch [9/10], Train Loss: 0.0950, Accuracy: 0.9894, F1 Score: 0.9894, Recall: 0.9894, Precision: 0.9896\n"
          ]
        },
        {
          "output_type": "stream",
          "name": "stderr",
          "text": [
            "\r 27%|██▋       | 4/15 [41:44<1:54:55, 626.84s/it]"
          ]
        },
        {
          "output_type": "stream",
          "name": "stdout",
          "text": [
            "Epoch [10/10], Train Loss: 0.1243, Accuracy: 0.9535, F1 Score: 0.9541, Recall: 0.9535, Precision: 0.9592\n",
            "Epoch [1/10], Train Loss: 4.6240, Accuracy: 0.0267, F1 Score: 0.0014, Recall: 0.0267, Precision: 0.0007\n",
            "Epoch [2/10], Train Loss: 3.5815, Accuracy: 0.0294, F1 Score: 0.0017, Recall: 0.0294, Precision: 0.0009\n",
            "Epoch [3/10], Train Loss: 3.5799, Accuracy: 0.0275, F1 Score: 0.0015, Recall: 0.0275, Precision: 0.0008\n",
            "Epoch [4/10], Train Loss: 3.5811, Accuracy: 0.0293, F1 Score: 0.0017, Recall: 0.0293, Precision: 0.0009\n",
            "Epoch [5/10], Train Loss: 3.5812, Accuracy: 0.0310, F1 Score: 0.0019, Recall: 0.0310, Precision: 0.0010\n",
            "Epoch [6/10], Train Loss: 3.5809, Accuracy: 0.0275, F1 Score: 0.0015, Recall: 0.0275, Precision: 0.0008\n",
            "Epoch [7/10], Train Loss: 3.5812, Accuracy: 0.0292, F1 Score: 0.0017, Recall: 0.0292, Precision: 0.0009\n",
            "Epoch [8/10], Train Loss: 3.5816, Accuracy: 0.0294, F1 Score: 0.0017, Recall: 0.0294, Precision: 0.0009\n",
            "Epoch [9/10], Train Loss: 3.5805, Accuracy: 0.0286, F1 Score: 0.0016, Recall: 0.0286, Precision: 0.0008\n"
          ]
        },
        {
          "output_type": "stream",
          "name": "stderr",
          "text": [
            "\r 33%|███▎      | 5/15 [52:11<1:44:28, 626.82s/it]"
          ]
        },
        {
          "output_type": "stream",
          "name": "stdout",
          "text": [
            "Epoch [10/10], Train Loss: 3.5799, Accuracy: 0.0264, F1 Score: 0.0014, Recall: 0.0264, Precision: 0.0007\n",
            "Epoch [1/10], Train Loss: 3.5541, Accuracy: 0.0298, F1 Score: 0.0025, Recall: 0.0298, Precision: 0.0014\n",
            "Epoch [2/10], Train Loss: 3.5237, Accuracy: 0.1074, F1 Score: 0.0556, Recall: 0.1074, Precision: 0.0792\n",
            "Epoch [3/10], Train Loss: 3.3334, Accuracy: 0.1156, F1 Score: 0.0651, Recall: 0.1156, Precision: 0.0620\n",
            "Epoch [4/10], Train Loss: 2.9250, Accuracy: 0.2418, F1 Score: 0.1605, Recall: 0.2418, Precision: 0.2669\n",
            "Epoch [5/10], Train Loss: 2.4409, Accuracy: 0.4364, F1 Score: 0.3813, Recall: 0.4364, Precision: 0.4356\n",
            "Epoch [6/10], Train Loss: 1.9675, Accuracy: 0.5506, F1 Score: 0.5039, Recall: 0.5506, Precision: 0.5519\n",
            "Epoch [7/10], Train Loss: 1.6110, Accuracy: 0.6290, F1 Score: 0.5845, Recall: 0.6290, Precision: 0.6108\n",
            "Epoch [8/10], Train Loss: 1.3521, Accuracy: 0.6968, F1 Score: 0.6665, Recall: 0.6968, Precision: 0.6979\n",
            "Epoch [9/10], Train Loss: 1.1596, Accuracy: 0.7496, F1 Score: 0.7321, Recall: 0.7496, Precision: 0.7645\n"
          ]
        },
        {
          "output_type": "stream",
          "name": "stderr",
          "text": [
            "\r 40%|████      | 6/15 [1:02:11<1:32:40, 617.85s/it]"
          ]
        },
        {
          "output_type": "stream",
          "name": "stdout",
          "text": [
            "Epoch [10/10], Train Loss: 1.0108, Accuracy: 0.7983, F1 Score: 0.7912, Recall: 0.7983, Precision: 0.8071\n",
            "Epoch [1/10], Train Loss: 2.3652, Accuracy: 0.6987, F1 Score: 0.6653, Recall: 0.6987, Precision: 0.7580\n",
            "Epoch [2/10], Train Loss: 0.6199, Accuracy: 0.8910, F1 Score: 0.8826, Recall: 0.8910, Precision: 0.8870\n",
            "Epoch [3/10], Train Loss: 0.2809, Accuracy: 0.9480, F1 Score: 0.9479, Recall: 0.9480, Precision: 0.9517\n",
            "Epoch [4/10], Train Loss: 0.1655, Accuracy: 0.9583, F1 Score: 0.9582, Recall: 0.9583, Precision: 0.9610\n",
            "Epoch [5/10], Train Loss: 0.1123, Accuracy: 0.9792, F1 Score: 0.9793, Recall: 0.9792, Precision: 0.9798\n",
            "Epoch [6/10], Train Loss: 0.0771, Accuracy: 0.9825, F1 Score: 0.9825, Recall: 0.9825, Precision: 0.9835\n",
            "Epoch [7/10], Train Loss: 0.0634, Accuracy: 0.9837, F1 Score: 0.9838, Recall: 0.9837, Precision: 0.9843\n",
            "Epoch [8/10], Train Loss: 0.0492, Accuracy: 0.9860, F1 Score: 0.9860, Recall: 0.9860, Precision: 0.9868\n",
            "Epoch [9/10], Train Loss: 0.0412, Accuracy: 0.9862, F1 Score: 0.9862, Recall: 0.9862, Precision: 0.9865\n"
          ]
        },
        {
          "output_type": "stream",
          "name": "stderr",
          "text": [
            "\r 47%|████▋     | 7/15 [1:12:12<1:21:39, 612.39s/it]"
          ]
        },
        {
          "output_type": "stream",
          "name": "stdout",
          "text": [
            "Epoch [10/10], Train Loss: 0.0371, Accuracy: 0.9905, F1 Score: 0.9905, Recall: 0.9905, Precision: 0.9910\n",
            "Epoch [1/10], Train Loss: 0.7740, Accuracy: 0.9623, F1 Score: 0.9628, Recall: 0.9623, Precision: 0.9673\n",
            "Epoch [2/10], Train Loss: 0.0653, Accuracy: 0.9773, F1 Score: 0.9770, Recall: 0.9773, Precision: 0.9802\n",
            "Epoch [3/10], Train Loss: 0.0365, Accuracy: 0.9936, F1 Score: 0.9936, Recall: 0.9936, Precision: 0.9938\n",
            "Epoch [4/10], Train Loss: 0.0229, Accuracy: 0.9980, F1 Score: 0.9980, Recall: 0.9980, Precision: 0.9980\n",
            "Epoch [5/10], Train Loss: 0.0149, Accuracy: 0.9986, F1 Score: 0.9986, Recall: 0.9986, Precision: 0.9986\n",
            "Epoch [6/10], Train Loss: 0.0118, Accuracy: 0.9994, F1 Score: 0.9994, Recall: 0.9994, Precision: 0.9994\n",
            "Epoch [7/10], Train Loss: 0.0122, Accuracy: 0.9964, F1 Score: 0.9964, Recall: 0.9964, Precision: 0.9965\n",
            "Epoch [8/10], Train Loss: 0.0107, Accuracy: 0.9976, F1 Score: 0.9976, Recall: 0.9976, Precision: 0.9977\n",
            "Epoch [9/10], Train Loss: 0.0102, Accuracy: 0.9967, F1 Score: 0.9967, Recall: 0.9967, Precision: 0.9967\n"
          ]
        },
        {
          "output_type": "stream",
          "name": "stderr",
          "text": [
            "\r 53%|█████▎    | 8/15 [1:22:16<1:11:07, 609.70s/it]"
          ]
        },
        {
          "output_type": "stream",
          "name": "stdout",
          "text": [
            "Epoch [10/10], Train Loss: 0.0058, Accuracy: 0.9806, F1 Score: 0.9807, Recall: 0.9806, Precision: 0.9837\n",
            "Epoch [1/10], Train Loss: 0.4447, Accuracy: 0.9753, F1 Score: 0.9752, Recall: 0.9753, Precision: 0.9772\n",
            "Epoch [2/10], Train Loss: 0.0942, Accuracy: 0.9867, F1 Score: 0.9868, Recall: 0.9867, Precision: 0.9877\n",
            "Epoch [3/10], Train Loss: 0.0732, Accuracy: 0.9859, F1 Score: 0.9858, Recall: 0.9859, Precision: 0.9866\n",
            "Epoch [4/10], Train Loss: 0.0411, Accuracy: 0.9334, F1 Score: 0.9308, Recall: 0.9334, Precision: 0.9412\n",
            "Epoch [5/10], Train Loss: 0.1048, Accuracy: 0.9869, F1 Score: 0.9869, Recall: 0.9869, Precision: 0.9874\n",
            "Epoch [6/10], Train Loss: 0.0818, Accuracy: 0.9762, F1 Score: 0.9760, Recall: 0.9762, Precision: 0.9790\n",
            "Epoch [7/10], Train Loss: 0.0475, Accuracy: 0.9944, F1 Score: 0.9944, Recall: 0.9944, Precision: 0.9946\n",
            "Epoch [8/10], Train Loss: 0.1475, Accuracy: 0.9806, F1 Score: 0.9805, Recall: 0.9806, Precision: 0.9815\n",
            "Epoch [9/10], Train Loss: 0.0713, Accuracy: 0.9958, F1 Score: 0.9958, Recall: 0.9958, Precision: 0.9959\n"
          ]
        },
        {
          "output_type": "stream",
          "name": "stderr",
          "text": [
            "\r 60%|██████    | 9/15 [1:32:13<1:00:34, 605.83s/it]"
          ]
        },
        {
          "output_type": "stream",
          "name": "stdout",
          "text": [
            "Epoch [10/10], Train Loss: 0.0607, Accuracy: 0.9925, F1 Score: 0.9924, Recall: 0.9925, Precision: 0.9926\n",
            "Epoch [1/10], Train Loss: 8.8700, Accuracy: 0.0290, F1 Score: 0.0016, Recall: 0.0290, Precision: 0.0008\n",
            "Epoch [2/10], Train Loss: 3.5728, Accuracy: 0.0290, F1 Score: 0.0016, Recall: 0.0290, Precision: 0.0008\n",
            "Epoch [3/10], Train Loss: 3.5737, Accuracy: 0.0290, F1 Score: 0.0016, Recall: 0.0290, Precision: 0.0008\n",
            "Epoch [4/10], Train Loss: 3.5742, Accuracy: 0.0294, F1 Score: 0.0017, Recall: 0.0294, Precision: 0.0009\n",
            "Epoch [5/10], Train Loss: 3.5734, Accuracy: 0.0290, F1 Score: 0.0016, Recall: 0.0290, Precision: 0.0008\n",
            "Epoch [6/10], Train Loss: 3.5733, Accuracy: 0.0302, F1 Score: 0.0018, Recall: 0.0302, Precision: 0.0009\n",
            "Epoch [7/10], Train Loss: 3.5731, Accuracy: 0.0286, F1 Score: 0.0016, Recall: 0.0286, Precision: 0.0008\n",
            "Epoch [8/10], Train Loss: 3.5738, Accuracy: 0.0286, F1 Score: 0.0016, Recall: 0.0286, Precision: 0.0008\n",
            "Epoch [9/10], Train Loss: 3.5727, Accuracy: 0.0258, F1 Score: 0.0013, Recall: 0.0258, Precision: 0.0007\n"
          ]
        },
        {
          "output_type": "stream",
          "name": "stderr",
          "text": [
            "\r 67%|██████▋   | 10/15 [1:42:11<50:16, 603.32s/it] "
          ]
        },
        {
          "output_type": "stream",
          "name": "stdout",
          "text": [
            "Epoch [10/10], Train Loss: 3.5723, Accuracy: 0.0280, F1 Score: 0.0015, Recall: 0.0280, Precision: 0.0008\n",
            "Epoch [1/10], Train Loss: 3.5547, Accuracy: 0.0570, F1 Score: 0.0299, Recall: 0.0570, Precision: 0.0348\n",
            "Epoch [2/10], Train Loss: 3.5459, Accuracy: 0.0504, F1 Score: 0.0265, Recall: 0.0504, Precision: 0.0410\n",
            "Epoch [3/10], Train Loss: 3.5241, Accuracy: 0.0559, F1 Score: 0.0269, Recall: 0.0559, Precision: 0.0472\n",
            "Epoch [4/10], Train Loss: 3.4685, Accuracy: 0.0610, F1 Score: 0.0145, Recall: 0.0610, Precision: 0.0508\n",
            "Epoch [5/10], Train Loss: 3.3499, Accuracy: 0.0770, F1 Score: 0.0291, Recall: 0.0770, Precision: 0.0856\n",
            "Epoch [6/10], Train Loss: 3.1540, Accuracy: 0.1693, F1 Score: 0.0941, Recall: 0.1693, Precision: 0.0829\n",
            "Epoch [7/10], Train Loss: 2.9076, Accuracy: 0.2313, F1 Score: 0.1374, Recall: 0.2313, Precision: 0.1232\n",
            "Epoch [8/10], Train Loss: 2.6421, Accuracy: 0.3158, F1 Score: 0.2110, Recall: 0.3158, Precision: 0.2598\n",
            "Epoch [9/10], Train Loss: 2.3664, Accuracy: 0.4066, F1 Score: 0.3303, Recall: 0.4066, Precision: 0.4336\n"
          ]
        },
        {
          "output_type": "stream",
          "name": "stderr",
          "text": [
            "\r 73%|███████▎  | 11/15 [1:52:05<40:01, 600.40s/it]"
          ]
        },
        {
          "output_type": "stream",
          "name": "stdout",
          "text": [
            "Epoch [10/10], Train Loss: 2.0958, Accuracy: 0.5174, F1 Score: 0.4733, Recall: 0.5174, Precision: 0.5994\n",
            "Epoch [1/10], Train Loss: 3.0109, Accuracy: 0.5403, F1 Score: 0.4734, Recall: 0.5403, Precision: 0.5686\n",
            "Epoch [2/10], Train Loss: 1.1515, Accuracy: 0.8683, F1 Score: 0.8639, Recall: 0.8683, Precision: 0.8848\n",
            "Epoch [3/10], Train Loss: 0.5398, Accuracy: 0.9319, F1 Score: 0.9315, Recall: 0.9319, Precision: 0.9352\n",
            "Epoch [4/10], Train Loss: 0.3116, Accuracy: 0.9510, F1 Score: 0.9510, Recall: 0.9510, Precision: 0.9535\n",
            "Epoch [5/10], Train Loss: 0.2017, Accuracy: 0.9587, F1 Score: 0.9586, Recall: 0.9587, Precision: 0.9621\n",
            "Epoch [6/10], Train Loss: 0.1454, Accuracy: 0.9701, F1 Score: 0.9701, Recall: 0.9701, Precision: 0.9711\n",
            "Epoch [7/10], Train Loss: 0.1065, Accuracy: 0.9754, F1 Score: 0.9754, Recall: 0.9754, Precision: 0.9760\n",
            "Epoch [8/10], Train Loss: 0.0869, Accuracy: 0.9839, F1 Score: 0.9838, Recall: 0.9839, Precision: 0.9841\n",
            "Epoch [9/10], Train Loss: 0.0691, Accuracy: 0.9855, F1 Score: 0.9857, Recall: 0.9855, Precision: 0.9865\n"
          ]
        },
        {
          "output_type": "stream",
          "name": "stderr",
          "text": [
            "\r 80%|████████  | 12/15 [2:01:58<29:54, 598.27s/it]"
          ]
        },
        {
          "output_type": "stream",
          "name": "stdout",
          "text": [
            "Epoch [10/10], Train Loss: 0.0569, Accuracy: 0.9884, F1 Score: 0.9884, Recall: 0.9884, Precision: 0.9886\n",
            "Epoch [1/10], Train Loss: 1.1169, Accuracy: 0.9496, F1 Score: 0.9496, Recall: 0.9496, Precision: 0.9536\n",
            "Epoch [2/10], Train Loss: 0.1058, Accuracy: 0.9806, F1 Score: 0.9809, Recall: 0.9806, Precision: 0.9836\n",
            "Epoch [3/10], Train Loss: 0.0476, Accuracy: 0.9924, F1 Score: 0.9924, Recall: 0.9924, Precision: 0.9926\n",
            "Epoch [4/10], Train Loss: 0.0334, Accuracy: 0.9881, F1 Score: 0.9880, Recall: 0.9881, Precision: 0.9895\n",
            "Epoch [5/10], Train Loss: 0.0289, Accuracy: 0.9925, F1 Score: 0.9926, Recall: 0.9925, Precision: 0.9934\n",
            "Epoch [6/10], Train Loss: 0.0233, Accuracy: 0.9976, F1 Score: 0.9976, Recall: 0.9976, Precision: 0.9977\n",
            "Epoch [7/10], Train Loss: 0.0152, Accuracy: 0.9972, F1 Score: 0.9972, Recall: 0.9972, Precision: 0.9973\n",
            "Epoch [8/10], Train Loss: 0.0082, Accuracy: 0.9937, F1 Score: 0.9938, Recall: 0.9937, Precision: 0.9945\n",
            "Epoch [9/10], Train Loss: 0.0113, Accuracy: 0.9988, F1 Score: 0.9988, Recall: 0.9988, Precision: 0.9988\n"
          ]
        },
        {
          "output_type": "stream",
          "name": "stderr",
          "text": [
            "\r 87%|████████▋ | 13/15 [2:11:50<19:52, 596.23s/it]"
          ]
        },
        {
          "output_type": "stream",
          "name": "stdout",
          "text": [
            "Epoch [10/10], Train Loss: 0.0124, Accuracy: 0.9884, F1 Score: 0.9881, Recall: 0.9884, Precision: 0.9895\n",
            "Epoch [1/10], Train Loss: 0.7203, Accuracy: 0.9762, F1 Score: 0.9763, Recall: 0.9762, Precision: 0.9776\n",
            "Epoch [2/10], Train Loss: 0.0681, Accuracy: 0.9894, F1 Score: 0.9894, Recall: 0.9894, Precision: 0.9901\n",
            "Epoch [3/10], Train Loss: 0.0454, Accuracy: 0.9921, F1 Score: 0.9921, Recall: 0.9921, Precision: 0.9924\n",
            "Epoch [4/10], Train Loss: 0.0547, Accuracy: 0.9927, F1 Score: 0.9927, Recall: 0.9927, Precision: 0.9931\n",
            "Epoch [5/10], Train Loss: 0.0273, Accuracy: 0.9969, F1 Score: 0.9969, Recall: 0.9969, Precision: 0.9970\n",
            "Epoch [6/10], Train Loss: 0.0538, Accuracy: 0.9629, F1 Score: 0.9626, Recall: 0.9629, Precision: 0.9670\n",
            "Epoch [7/10], Train Loss: 0.0407, Accuracy: 0.9915, F1 Score: 0.9915, Recall: 0.9915, Precision: 0.9919\n",
            "Epoch [8/10], Train Loss: 0.0753, Accuracy: 0.9806, F1 Score: 0.9806, Recall: 0.9806, Precision: 0.9818\n",
            "Epoch [9/10], Train Loss: 0.0827, Accuracy: 0.9954, F1 Score: 0.9954, Recall: 0.9954, Precision: 0.9955\n"
          ]
        },
        {
          "output_type": "stream",
          "name": "stderr",
          "text": [
            "\r 93%|█████████▎| 14/15 [2:21:37<09:53, 593.37s/it]"
          ]
        },
        {
          "output_type": "stream",
          "name": "stdout",
          "text": [
            "Epoch [10/10], Train Loss: 0.0301, Accuracy: 0.9951, F1 Score: 0.9951, Recall: 0.9951, Precision: 0.9952\n",
            "Epoch [1/10], Train Loss: 3.0357, Accuracy: 0.3913, F1 Score: 0.3588, Recall: 0.3913, Precision: 0.3925\n",
            "Epoch [2/10], Train Loss: 1.7983, Accuracy: 0.4275, F1 Score: 0.4104, Recall: 0.4275, Precision: 0.4690\n",
            "Epoch [3/10], Train Loss: 1.8374, Accuracy: 0.4083, F1 Score: 0.3582, Recall: 0.4083, Precision: 0.4035\n",
            "Epoch [4/10], Train Loss: 1.6309, Accuracy: 0.4647, F1 Score: 0.4233, Recall: 0.4647, Precision: 0.4322\n",
            "Epoch [5/10], Train Loss: 1.6335, Accuracy: 0.4116, F1 Score: 0.3944, Recall: 0.4116, Precision: 0.4398\n",
            "Epoch [6/10], Train Loss: 1.8852, Accuracy: 0.3814, F1 Score: 0.3543, Recall: 0.3814, Precision: 0.4277\n",
            "Epoch [7/10], Train Loss: 1.7707, Accuracy: 0.3298, F1 Score: 0.2822, Recall: 0.3298, Precision: 0.3302\n",
            "Epoch [8/10], Train Loss: 1.8967, Accuracy: 0.4463, F1 Score: 0.4005, Recall: 0.4463, Precision: 0.4465\n",
            "Epoch [9/10], Train Loss: 1.5464, Accuracy: 0.5024, F1 Score: 0.4782, Recall: 0.5024, Precision: 0.5335\n"
          ]
        },
        {
          "output_type": "stream",
          "name": "stderr",
          "text": [
            "100%|██████████| 15/15 [2:31:21<00:00, 605.44s/it]"
          ]
        },
        {
          "output_type": "stream",
          "name": "stdout",
          "text": [
            "Epoch [10/10], Train Loss: 1.4612, Accuracy: 0.4943, F1 Score: 0.4702, Recall: 0.4943, Precision: 0.5132\n",
            "Accuracy: [0.8983414014760733, 0.9956352670422982, 0.9752400603126736, 0.9534957543052138, 0.026426474089357988, 0.7983493373541782, 0.9904769462741052, 0.9805570986429648, 0.9924609158003334, 0.028013649710340448, 0.5174192524402825, 0.988413617966828, 0.988413617966828, 0.9950797555749543, 0.4943258471549877]\n",
            "F1 Score: [0.8982738158471751, 0.9956343667744921, 0.9748414655773069, 0.9541170111102897, 0.0013607570545471175, 0.7912400491375534, 0.9905358904895967, 0.980741149194531, 0.9924472603803922, 0.0015267590470511316, 0.4733320717680091, 0.9884439504885606, 0.9881056210667134, 0.9950770674236947, 0.47017704441596475]\n",
            "Recall: [0.8983414014760733, 0.9956352670422982, 0.9752400603126736, 0.9534957543052138, 0.026426474089357988, 0.7983493373541782, 0.9904769462741052, 0.9805570986429648, 0.9924609158003334, 0.028013649710340448, 0.5174192524402825, 0.988413617966828, 0.988413617966828, 0.9950797555749543, 0.4943258471549877]\n",
            "Precision: [0.901448284438716, 0.9957158785247013, 0.9783321065056755, 0.9592144707528553, 0.0006983585327955092, 0.8071098576911915, 0.9909681151145954, 0.9837214346294598, 0.9926126210382671, 0.0007847645700936575, 0.5993645231358755, 0.9885739162262852, 0.9894869353653453, 0.9951512005436525, 0.5131537604171019]\n",
            "Best hyperparameters: {'lr': 0.0001, 'batch_size': 32}\n",
            "Best accuracy: 0.9956352670422982\n"
          ]
        },
        {
          "output_type": "stream",
          "name": "stderr",
          "text": [
            "\n"
          ]
        }
      ]
    }
  ]
}